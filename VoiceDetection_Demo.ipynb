{
 "cells": [
  {
   "cell_type": "markdown",
   "id": "95e22b32",
   "metadata": {},
   "source": [
    "# 🎧 AI-Morphed Voice Detection System\n",
    "Using CNN + LSTM on RGB Spectrograms"
   ]
  },
  {
   "cell_type": "markdown",
   "id": "6cb8b267",
   "metadata": {},
   "source": [
    "\n",
    "This notebook demonstrates how to build a deep learning model to detect AI-generated (fake) voices from real ones using RGB spectrograms and a hybrid CNN-LSTM architecture.\n",
    "\n",
    "**Steps Covered:**\n",
    "- Load and preprocess image data\n",
    "- Reshape for LSTM layers\n",
    "- Build CNN + LSTM model\n",
    "- Train and evaluate\n",
    "- Visualize accuracy, loss, and confusion matrix\n"
   ]
  },
  {
   "cell_type": "code",
   "execution_count": null,
   "id": "dc675240",
   "metadata": {},
   "outputs": [],
   "source": [
    "\n",
    "import os\n",
    "import cv2\n",
    "import numpy as np\n",
    "import matplotlib.pyplot as plt\n",
    "import tensorflow as tf\n",
    "from sklearn.utils import shuffle\n",
    "from sklearn.metrics import classification_report, confusion_matrix, ConfusionMatrixDisplay\n",
    "from tensorflow.keras.utils import to_categorical\n",
    "from tensorflow.keras.models import Sequential\n",
    "from tensorflow.keras.layers import (Conv2D, MaxPooling2D, Flatten, Dense,\n",
    "                                     Dropout, LSTM, TimeDistributed, Reshape,\n",
    "                                     BatchNormalization, InputLayer)\n",
    "from tensorflow.keras.callbacks import ModelCheckpoint, EarlyStopping\n"
   ]
  },
  {
   "cell_type": "code",
   "execution_count": null,
   "id": "bf1a8306",
   "metadata": {},
   "outputs": [],
   "source": [
    "\n",
    "# Parameters\n",
    "IMG_HEIGHT, IMG_WIDTH = 224, 224\n",
    "BATCH_SIZE = 32\n",
    "EPOCHS = 50\n",
    "NUM_CLASSES = 2\n",
    "TIME_STEPS = 28\n",
    "FEATURES = IMG_WIDTH * 3  # RGB\n"
   ]
  },
  {
   "cell_type": "code",
   "execution_count": null,
   "id": "ead2155c",
   "metadata": {},
   "outputs": [],
   "source": [
    "\n",
    "def load_dataset(folder_path):\n",
    "    data, labels = [], []\n",
    "    for label, subfolder in enumerate(['real', 'fake']):\n",
    "        path = os.path.join(folder_path, subfolder)\n",
    "        for img_name in os.listdir(path):\n",
    "            img_path = os.path.join(path, img_name)\n",
    "            try:\n",
    "                img = cv2.imread(img_path)\n",
    "                if img is not None:\n",
    "                    img = cv2.resize(img, (IMG_WIDTH, IMG_HEIGHT))\n",
    "                    data.append(img)\n",
    "                    labels.append(label)\n",
    "            except Exception as e:\n",
    "                print(f\"Error loading image {img_path}: {e}\")\n",
    "    return shuffle(np.array(data), np.array(labels))\n"
   ]
  },
  {
   "cell_type": "code",
   "execution_count": null,
   "id": "8a0f2084",
   "metadata": {},
   "outputs": [],
   "source": [
    "\n",
    "train_path = 'dataset/training'\n",
    "val_path = 'dataset/validation'\n",
    "test_path = 'dataset/testing'\n",
    "\n",
    "X_train, y_train = load_dataset(train_path)\n",
    "X_val, y_val = load_dataset(val_path)\n",
    "X_test, y_test = load_dataset(test_path)\n",
    "\n",
    "X_train, X_val, X_test = X_train / 255.0, X_val / 255.0, X_test / 255.0\n",
    "y_train = to_categorical(y_train, NUM_CLASSES)\n",
    "y_val = to_categorical(y_val, NUM_CLASSES)\n",
    "y_test = to_categorical(y_test, NUM_CLASSES)\n",
    "\n",
    "def reshape_for_lstm(X):\n",
    "    return X.reshape((X.shape[0], TIME_STEPS, -1))\n",
    "\n",
    "X_train_seq = reshape_for_lstm(X_train)\n",
    "X_val_seq = reshape_for_lstm(X_val)\n",
    "X_test_seq = reshape_for_lstm(X_test)\n"
   ]
  },
  {
   "cell_type": "code",
   "execution_count": null,
   "id": "38f3188c",
   "metadata": {},
   "outputs": [],
   "source": [
    "\n",
    "def build_cnn_lstm_model():\n",
    "    model = Sequential()\n",
    "    model.add(InputLayer(input_shape=(TIME_STEPS, FEATURES)))\n",
    "    model.add(Reshape((TIME_STEPS, IMG_WIDTH, 3)))\n",
    "    model.add(TimeDistributed(Conv2D(32, (3, 3), activation='relu', padding='same')))\n",
    "    model.add(TimeDistributed(MaxPooling2D((2, 2))))\n",
    "    model.add(TimeDistributed(BatchNormalization()))\n",
    "    model.add(TimeDistributed(Conv2D(64, (3, 3), activation='relu', padding='same')))\n",
    "    model.add(TimeDistributed(MaxPooling2D((2, 2))))\n",
    "    model.add(TimeDistributed(BatchNormalization()))\n",
    "    model.add(TimeDistributed(Flatten()))\n",
    "    model.add(LSTM(128, return_sequences=False))\n",
    "    model.add(Dropout(0.5))\n",
    "    model.add(Dense(64, activation='relu'))\n",
    "    model.add(Dropout(0.3))\n",
    "    model.add(Dense(NUM_CLASSES, activation='softmax'))\n",
    "    model.compile(optimizer='adam', loss='categorical_crossentropy', metrics=['accuracy'])\n",
    "    return model\n",
    "\n",
    "model = build_cnn_lstm_model()\n",
    "model.summary()\n"
   ]
  },
  {
   "cell_type": "code",
   "execution_count": null,
   "id": "34513539",
   "metadata": {},
   "outputs": [],
   "source": [
    "\n",
    "checkpoint = ModelCheckpoint(\"best_model.h5\", monitor='val_accuracy', save_best_only=True, mode='max', verbose=1)\n",
    "earlystop = EarlyStopping(monitor='val_loss', patience=8, restore_best_weights=True)\n",
    "\n",
    "history = model.fit(\n",
    "    X_train_seq, y_train,\n",
    "    validation_data=(X_val_seq, y_val),\n",
    "    epochs=EPOCHS,\n",
    "    batch_size=BATCH_SIZE,\n",
    "    callbacks=[checkpoint, earlystop],\n",
    "    verbose=1\n",
    ")\n"
   ]
  },
  {
   "cell_type": "code",
   "execution_count": null,
   "id": "159f29c2",
   "metadata": {},
   "outputs": [],
   "source": [
    "\n",
    "test_loss, test_acc = model.evaluate(X_test_seq, y_test, verbose=1)\n",
    "print(f\"Test Accuracy: {test_acc*100:.2f}%\")\n",
    "\n",
    "y_pred = model.predict(X_test_seq)\n",
    "y_pred_classes = np.argmax(y_pred, axis=1)\n",
    "y_true = np.argmax(y_test, axis=1)\n",
    "print(classification_report(y_true, y_pred_classes, target_names=['Real', 'Fake']))\n"
   ]
  },
  {
   "cell_type": "code",
   "execution_count": null,
   "id": "f93d7895",
   "metadata": {},
   "outputs": [],
   "source": [
    "\n",
    "# Accuracy plot\n",
    "plt.figure()\n",
    "plt.plot(history.history['accuracy'], label='Train Accuracy')\n",
    "plt.plot(history.history['val_accuracy'], label='Validation Accuracy')\n",
    "plt.title('Model Accuracy')\n",
    "plt.xlabel('Epochs')\n",
    "plt.ylabel('Accuracy')\n",
    "plt.legend()\n",
    "plt.savefig('accuracy_plot.png')\n",
    "plt.show()\n",
    "\n",
    "# Loss plot\n",
    "plt.figure()\n",
    "plt.plot(history.history['loss'], label='Train Loss')\n",
    "plt.plot(history.history['val_loss'], label='Validation Loss')\n",
    "plt.title('Model Loss')\n",
    "plt.xlabel('Epochs')\n",
    "plt.ylabel('Loss')\n",
    "plt.legend()\n",
    "plt.savefig('loss_plot.png')\n",
    "plt.show()\n"
   ]
  },
  {
   "cell_type": "code",
   "execution_count": null,
   "id": "a8d680ae",
   "metadata": {},
   "outputs": [],
   "source": [
    "\n",
    "cm = confusion_matrix(y_true, y_pred_classes)\n",
    "disp = ConfusionMatrixDisplay(confusion_matrix=cm, display_labels=[\"Real\", \"Fake\"])\n",
    "disp.plot(cmap=plt.cm.Blues)\n",
    "plt.title(\"Confusion Matrix\")\n",
    "plt.savefig(\"confusion_matrix.png\")\n",
    "plt.show()\n"
   ]
  }
 ],
 "metadata": {},
 "nbformat": 4,
 "nbformat_minor": 5
}